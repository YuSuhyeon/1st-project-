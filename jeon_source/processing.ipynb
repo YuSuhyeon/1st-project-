{
 "cells": [
  {
   "cell_type": "code",
   "execution_count": 186,
   "id": "565cc64f",
   "metadata": {},
   "outputs": [],
   "source": [
    "import pandas as pd\n",
    "import numpy as np\n",
    "from sklearn.feature_selection import SelectKBest, chi2\n",
    "from sklearn.ensemble import RandomForestRegressor # 랜덤포레스트 회귀모델\n",
    "import matplotlib as plt\n",
    "from sklearn.preprocessing import LabelEncoder"
   ]
  },
  {
   "cell_type": "markdown",
   "id": "6075962c",
   "metadata": {},
   "source": [
    "#### 아파트 데이터, 금리 데이터, 학교 데이터, 지하철 주소 데이터를 통합하며 데이터 전처리와 pandas를 확실히 익힌다."
   ]
  },
  {
   "cell_type": "markdown",
   "id": "0f53824e",
   "metadata": {},
   "source": [
    "1. 데이터를 가져오고 형태를 파악한다."
   ]
  },
  {
   "cell_type": "code",
   "execution_count": 187,
   "id": "c33b9fe1",
   "metadata": {},
   "outputs": [],
   "source": [
    "# 데이터 불러오기\n",
    "\n",
    "apart_df = pd.read_csv(\"../data/20250605_102903_seoul_real_estate.csv\")\n",
    "interest_rate_df = pd.read_csv(\"../data/deposit_lending_rate.csv\")\n",
    "shcool_df = pd.read_csv(\"../data/seoul_shcool_info.csv\")\n",
    "subway_df = pd.read_csv(\"../data/seoul_subway_encoding.csv\")"
   ]
  },
  {
   "cell_type": "code",
   "execution_count": 188,
   "id": "39b51e32",
   "metadata": {},
   "outputs": [],
   "source": [
    "# 지하철 컬럼명 변경 및 불필요 컬럼 제거\n",
    "subway_df.drop(columns=['Unnamed: 0', '역번호', '연번', '역전화번호', '도로명주소'], axis=1, inplace=True) # 컬럼명 없는 컬럼 삭제\n",
    "subway_df.rename(columns={'호선' : 'line_num', '역명' : 'station_name', '지번주소' : 'address'}, inplace=True)"
   ]
  },
  {
   "cell_type": "code",
   "execution_count": 189,
   "id": "4fe1edcb",
   "metadata": {},
   "outputs": [
    {
     "data": {
      "text/plain": [
       "Index(['line_num', 'station_name', 'gu'], dtype='object')"
      ]
     },
     "execution_count": 189,
     "metadata": {},
     "output_type": "execute_result"
    }
   ],
   "source": [
    "# 지하철 주소 컬럼 시.구분리, 기존 주소컬럼 제거\n",
    "subway_df['gu'] = subway_df['address'].str.extract(r'(\\S+구)')\n",
    "subway_df['dong'] = subway_df['address'].str.extract(r'(\\S+(?:동|가|로))')\n",
    "subway_df.drop(columns=['address','dong'], inplace=True)\n",
    "subway_df['station_name'] = subway_df['station_name'] + '역'\n",
    "subway_df.columns"
   ]
  },
  {
   "cell_type": "code",
   "execution_count": 190,
   "id": "4552447d",
   "metadata": {},
   "outputs": [
    {
     "data": {
      "text/plain": [
       "Index(['school_type', 'type', 'school_name', 'high_school_type', 'gu'], dtype='object')"
      ]
     },
     "execution_count": 190,
     "metadata": {},
     "output_type": "execute_result"
    }
   ],
   "source": [
    "# 학교 주소 컬럼 시,구분리, 기존 주소컬럼 제거\n",
    "shcool_df['gu'] = shcool_df['address'].str.extract(r'(\\S+구)')\n",
    "shcool_df.drop(columns=['address'], inplace=True)\n",
    "shcool_df.columns"
   ]
  },
  {
   "cell_type": "code",
   "execution_count": 191,
   "id": "20c396bf",
   "metadata": {},
   "outputs": [],
   "source": [
    "# 금리데이터 이름 변경\n",
    "interest_rate_df.rename(columns={'Unnamed: 0':'date'}, inplace=True)"
   ]
  },
  {
   "cell_type": "code",
   "execution_count": 192,
   "id": "0cd972ef",
   "metadata": {},
   "outputs": [
    {
     "data": {
      "text/html": [
       "<div>\n",
       "<style scoped>\n",
       "    .dataframe tbody tr th:only-of-type {\n",
       "        vertical-align: middle;\n",
       "    }\n",
       "\n",
       "    .dataframe tbody tr th {\n",
       "        vertical-align: top;\n",
       "    }\n",
       "\n",
       "    .dataframe thead th {\n",
       "        text-align: right;\n",
       "    }\n",
       "</style>\n",
       "<table border=\"1\" class=\"dataframe\">\n",
       "  <thead>\n",
       "    <tr style=\"text-align: right;\">\n",
       "      <th></th>\n",
       "      <th>landing</th>\n",
       "      <th>deposit</th>\n",
       "      <th>diff</th>\n",
       "      <th>year</th>\n",
       "      <th>month</th>\n",
       "    </tr>\n",
       "  </thead>\n",
       "  <tbody>\n",
       "    <tr>\n",
       "      <th>0</th>\n",
       "      <td>11.43</td>\n",
       "      <td>10.42</td>\n",
       "      <td>1.01</td>\n",
       "      <td>1996</td>\n",
       "      <td>1</td>\n",
       "    </tr>\n",
       "    <tr>\n",
       "      <th>1</th>\n",
       "      <td>11.47</td>\n",
       "      <td>10.26</td>\n",
       "      <td>1.21</td>\n",
       "      <td>1996</td>\n",
       "      <td>2</td>\n",
       "    </tr>\n",
       "    <tr>\n",
       "      <th>2</th>\n",
       "      <td>11.37</td>\n",
       "      <td>10.33</td>\n",
       "      <td>1.04</td>\n",
       "      <td>1996</td>\n",
       "      <td>3</td>\n",
       "    </tr>\n",
       "    <tr>\n",
       "      <th>3</th>\n",
       "      <td>11.11</td>\n",
       "      <td>9.88</td>\n",
       "      <td>1.23</td>\n",
       "      <td>1996</td>\n",
       "      <td>4</td>\n",
       "    </tr>\n",
       "    <tr>\n",
       "      <th>4</th>\n",
       "      <td>11.24</td>\n",
       "      <td>9.62</td>\n",
       "      <td>1.62</td>\n",
       "      <td>1996</td>\n",
       "      <td>5</td>\n",
       "    </tr>\n",
       "    <tr>\n",
       "      <th>...</th>\n",
       "      <td>...</td>\n",
       "      <td>...</td>\n",
       "      <td>...</td>\n",
       "      <td>...</td>\n",
       "      <td>...</td>\n",
       "    </tr>\n",
       "    <tr>\n",
       "      <th>349</th>\n",
       "      <td>4.46</td>\n",
       "      <td>2.97</td>\n",
       "      <td>1.49</td>\n",
       "      <td>2025</td>\n",
       "      <td>2</td>\n",
       "    </tr>\n",
       "    <tr>\n",
       "      <th>350</th>\n",
       "      <td>4.36</td>\n",
       "      <td>2.84</td>\n",
       "      <td>1.52</td>\n",
       "      <td>2025</td>\n",
       "      <td>3</td>\n",
       "    </tr>\n",
       "    <tr>\n",
       "      <th>351</th>\n",
       "      <td>4.19</td>\n",
       "      <td>2.71</td>\n",
       "      <td>1.48</td>\n",
       "      <td>2025</td>\n",
       "      <td>4</td>\n",
       "    </tr>\n",
       "    <tr>\n",
       "      <th>352</th>\n",
       "      <td>4.19</td>\n",
       "      <td>2.96</td>\n",
       "      <td>1.23</td>\n",
       "      <td>2025</td>\n",
       "      <td>5</td>\n",
       "    </tr>\n",
       "    <tr>\n",
       "      <th>353</th>\n",
       "      <td>4.00</td>\n",
       "      <td>2.97</td>\n",
       "      <td>1.03</td>\n",
       "      <td>2025</td>\n",
       "      <td>6</td>\n",
       "    </tr>\n",
       "  </tbody>\n",
       "</table>\n",
       "<p>354 rows × 5 columns</p>\n",
       "</div>"
      ],
      "text/plain": [
       "     landing  deposit  diff  year  month\n",
       "0      11.43    10.42  1.01  1996      1\n",
       "1      11.47    10.26  1.21  1996      2\n",
       "2      11.37    10.33  1.04  1996      3\n",
       "3      11.11     9.88  1.23  1996      4\n",
       "4      11.24     9.62  1.62  1996      5\n",
       "..       ...      ...   ...   ...    ...\n",
       "349     4.46     2.97  1.49  2025      2\n",
       "350     4.36     2.84  1.52  2025      3\n",
       "351     4.19     2.71  1.48  2025      4\n",
       "352     4.19     2.96  1.23  2025      5\n",
       "353     4.00     2.97  1.03  2025      6\n",
       "\n",
       "[354 rows x 5 columns]"
      ]
     },
     "execution_count": 192,
     "metadata": {},
     "output_type": "execute_result"
    }
   ],
   "source": [
    "# 금리 데이터 날짜 분리, 날짜 및 잘못 추가된 컬럼 제거\n",
    "interest_rate_df['year'] = interest_rate_df['date'].str.split('-').str[0].astype(int)\n",
    "interest_rate_df['month'] = interest_rate_df['date'].str.split('-').str[1].astype(int)\n",
    "interest_rate_df.drop(columns=['date', 'Unnamed: 4'], inplace=True)\n",
    "interest_rate_df"
   ]
  },
  {
   "cell_type": "code",
   "execution_count": 193,
   "id": "f10da409",
   "metadata": {},
   "outputs": [],
   "source": [
    "# 데이터 셋 날짜 분리\n",
    "\n",
    "# CTRT_DAY를 날짜 타입으로 변환\n",
    "apart_df['CTRT_DAY'] = pd.to_datetime(apart_df['CTRT_DAY'])\n",
    "\n",
    "# 연, 월로 분리해서 새로운 컬럼 만들기\n",
    "apart_df['CTRT_YEAR'] = apart_df['CTRT_DAY'].dt.year\n",
    "apart_df['CTRT_MONTH'] = apart_df['CTRT_DAY'].dt.month"
   ]
  },
  {
   "cell_type": "code",
   "execution_count": 194,
   "id": "d27a49b7",
   "metadata": {},
   "outputs": [],
   "source": [
    "# 아파트 주소'구'를 이용해 지하철 역, 학교(초중고) 병합\n",
    "subway_gu = subway_df.groupby('gu').first().reset_index()\n",
    "\n",
    "apart_df = apart_df.merge(subway_gu[['line_num', 'station_name', 'gu']], right_on='gu', left_on='CGG_NM', how='left')\n",
    "\n",
    "shcool_gu = shcool_df.groupby('gu').first().reset_index()\n",
    "apart_df = apart_df.merge(shcool_gu[['school_type', 'gu']], right_on='gu', left_on='CGG_NM', how='left')\n",
    "\n",
    "\n",
    "apart_df = apart_df.merge(\n",
    "    interest_rate_df[['year', 'month', 'landing', 'deposit']],\n",
    "    left_on=['CTRT_YEAR', 'CTRT_MONTH'],\n",
    "    right_on=['year', 'month'],\n",
    "    how='left'\n",
    ")"
   ]
  },
  {
   "cell_type": "code",
   "execution_count": 195,
   "id": "a065ca25",
   "metadata": {},
   "outputs": [],
   "source": [
    "# 중복 컬럼 제거 (지하철 gu, 학교 gu, 금리(year, mont))\n",
    "new_df = apart_df.copy()\n",
    "\n",
    "new_df.drop(columns=['gu_x', 'gu_y', 'year', 'month'], inplace=True)"
   ]
  },
  {
   "cell_type": "code",
   "execution_count": 196,
   "id": "4c0051b3",
   "metadata": {},
   "outputs": [
    {
     "data": {
      "text/plain": [
       "Index(['RCPT_YR', 'CGG_NM', 'STDG_NM', 'MNO', 'SNO', 'ARCH_AREA', 'FLR',\n",
       "       'ARCH_YR', 'BLDG_USG', 'DCLR_SE', 'ARCH_DECADE', 'PYEONG',\n",
       "       'PYEONG_GROUP', 'PRICE_EUK', 'PRICE_PER_PYEONG', 'CTRT_YEAR',\n",
       "       'CTRT_MONTH', 'line_num', 'station_name', 'school_type', 'landing',\n",
       "       'deposit'],\n",
       "      dtype='object')"
      ]
     },
     "execution_count": 196,
     "metadata": {},
     "output_type": "execute_result"
    }
   ],
   "source": [
    "new_df.drop(columns=[\"CGG_CD\", \"STDG_CD\", \"LOTNO_SE\", \"BLDG_NM\", \"LOTNO_SE_NM\", 'CTRT_DAY', 'RTRCN_DAY', 'THING_AMT', 'RGHT_SE', 'OPBIZ_RESTAGNT_SGG_NM', 'LAND_AREA'], inplace=True)\n",
    "new_df.columns"
   ]
  },
  {
   "cell_type": "code",
   "execution_count": null,
   "id": "06cf967e",
   "metadata": {},
   "outputs": [],
   "source": [
    "# 추가 전처리\n",
    "\n",
    "# 속성 이름의 명확성 정리\n",
    "rename_cols = [\n",
    "    'receipt_year',\n",
    "    'gu_name',\n",
    "    'dong_name',\n",
    "    'main_lot_num',\n",
    "    'sub_lot_num',\n",
    "    'arch_area',\n",
    "    'floor',\n",
    "    'arch_year',\n",
    "    'building_usage',\n",
    "    'deal_type',\n",
    "    'arch_decade',\n",
    "    'pyeong',\n",
    "    'pyeong_group',\n",
    "    'price_euk',\n",
    "    'price_per_pyeong',\n",
    "    'contract_year',\n",
    "    'contract_month',\n",
    "    'subway_line',\n",
    "    'subway_name',\n",
    "    'school_type',\n",
    "    'landing_rate',\n",
    "    'deposit_rate'\n",
    "]\n",
    "\n",
    "new_df.columns = rename_cols"
   ]
  },
  {
   "cell_type": "code",
   "execution_count": 198,
   "id": "78a447fc",
   "metadata": {},
   "outputs": [
    {
     "name": "stdout",
     "output_type": "stream",
     "text": [
      "<class 'pandas.core.frame.DataFrame'>\n",
      "RangeIndex: 136672 entries, 0 to 136671\n",
      "Data columns (total 22 columns):\n",
      " #   Column            Non-Null Count   Dtype  \n",
      "---  ------            --------------   -----  \n",
      " 0   receipt_year      136672 non-null  int64  \n",
      " 1   gu_name           136671 non-null  object \n",
      " 2   dong_name         136672 non-null  object \n",
      " 3   main_lot_num      136665 non-null  float64\n",
      " 4   sub_lot_num       136665 non-null  float64\n",
      " 5   arch_area         136672 non-null  float64\n",
      " 6   floor             136672 non-null  int64  \n",
      " 7   arch_year         136667 non-null  float64\n",
      " 8   building_usage    136672 non-null  object \n",
      " 9   deal_type         136591 non-null  object \n",
      " 10  arch_decade       136672 non-null  object \n",
      " 11  pyeong            136672 non-null  float64\n",
      " 12  pyeong_group      136672 non-null  object \n",
      " 13  price_euk         136672 non-null  float64\n",
      " 14  price_per_pyeong  136672 non-null  float64\n",
      " 15  contract_year     136672 non-null  int32  \n",
      " 16  contract_month    136672 non-null  int32  \n",
      " 17  subway_line       136671 non-null  float64\n",
      " 18  subway_name       136671 non-null  object \n",
      " 19  school_type       136671 non-null  object \n",
      " 20  landing_rate      136672 non-null  float64\n",
      " 21  deposit_rate      136672 non-null  float64\n",
      "dtypes: float64(10), int32(2), int64(2), object(8)\n",
      "memory usage: 21.9+ MB\n"
     ]
    }
   ],
   "source": [
    "new_df.info()"
   ]
  },
  {
   "cell_type": "code",
   "execution_count": 200,
   "id": "6b1170c6",
   "metadata": {},
   "outputs": [],
   "source": [
    "# 아파트 데이터 문자열 > 숫자로\n",
    "# 숫자로 바꿔야 할 컬럼 리스트\n",
    "str_columns = [\n",
    "    'gu_name', 'dong_name', 'building_usage', 'deal_type', 'arch_decade', 'pyeong_group', 'subway_name', 'school_type'\n",
    "]\n",
    "\n",
    "# LabelEncoder로 문자열을 숫자로 변환\n",
    "for col in str_columns:\n",
    "    le = LabelEncoder()\n",
    "    new_df[col] = le.fit_transform(new_df[col].astype(str))"
   ]
  },
  {
   "cell_type": "code",
   "execution_count": 203,
   "id": "13705e4b",
   "metadata": {},
   "outputs": [
    {
     "data": {
      "text/plain": [
       "receipt_year        0\n",
       "gu_name             0\n",
       "dong_name           0\n",
       "main_lot_num        7\n",
       "sub_lot_num         7\n",
       "arch_area           0\n",
       "floor               0\n",
       "arch_year           5\n",
       "building_usage      0\n",
       "deal_type           0\n",
       "arch_decade         0\n",
       "pyeong              0\n",
       "pyeong_group        0\n",
       "price_euk           0\n",
       "price_per_pyeong    0\n",
       "contract_year       0\n",
       "contract_month      0\n",
       "subway_line         1\n",
       "subway_name         0\n",
       "school_type         0\n",
       "landing_rate        0\n",
       "deposit_rate        0\n",
       "dtype: int64"
      ]
     },
     "execution_count": 203,
     "metadata": {},
     "output_type": "execute_result"
    }
   ],
   "source": [
    "new_df.isnull().sum()"
   ]
  },
  {
   "cell_type": "code",
   "execution_count": 205,
   "id": "f1ed0bc2",
   "metadata": {},
   "outputs": [],
   "source": [
    "# 결측치 제거\n",
    "new_df.dropna(subset=['main_lot_num', 'sub_lot_num', 'arch_year', 'subway_line'], inplace=True)"
   ]
  },
  {
   "cell_type": "code",
   "execution_count": 208,
   "id": "41887c52",
   "metadata": {},
   "outputs": [],
   "source": [
    "# 불필요 데이터 확인을 위한 모델 학습\n",
    "\n",
    "X = new_df.drop('price_euk', axis=1)  # 입력 데이터(속성)\n",
    "y = new_df['price_euk']               # 타겟(거래금액)\n",
    "\n",
    "# 랜덤포레스트 모델 학습\n",
    "model = RandomForestRegressor(random_state=0)\n",
    "model.fit(X, y)\n",
    "\n",
    "# 속성 중요도 가져오기\n",
    "importances = model.feature_importances_\n",
    "feature_names = X.columns\n",
    "\n",
    "# 판다스 시리즈로 변환해서 정렬\n",
    "feat_importances = pd.Series(importances, index=feature_names)\n",
    "feat_importances = feat_importances.sort_values(ascending=True)"
   ]
  },
  {
   "cell_type": "code",
   "execution_count": null,
   "id": "9400a4f4",
   "metadata": {},
   "outputs": [
    {
     "data": {
      "image/png": "[encoded data removed]",
      "text/plain": [
       "<Figure size 700x600 with 1 Axes>"
      ]
     },
     "metadata": {},
     "output_type": "display_data"
    }
   ],
   "source": [
    "import matplotlib.pyplot as plt\n",
    "from matplotlib.ticker import MultipleLocator\n",
    "\n",
    "# 1. 폰트 설정 (애플고딕, macOS)\n",
    "plt.rcParams['font.family'] = 'AppleGothic'   # 한글 폰트\n",
    "plt.rcParams['font.size'] = 9                 # 전체 폰트 크기\n",
    "plt.rcParams['axes.unicode_minus'] = False    # 마이너스 깨짐 방지\n",
    "\n",
    "# 가로 막대그래프 그리기\n",
    "plt.figure(figsize=(7, 6))\n",
    "feat_importances.plot(kind='barh')  # barh: 가로 막대그래프\n",
    "plt.title('가격과 가장 높은 상관관계', fontsize = 13)\n",
    "plt.xlabel('중요도')\n",
    "plt.ylabel('속성')\n",
    "plt.gca().yaxis.set_major_locator(MultipleLocator())\n",
    "plt.show()"
   ]
  },
  {
   "cell_type": "code",
   "execution_count": null,
   "id": "3330d3e6",
   "metadata": {},
   "outputs": [],
   "source": [
    "# 금리데이터(시중은행 평균 금리), 서울지하철역, 서울학교 병합 데이터\n",
    "new_df.to_csv(\"../data/new_apart_data_preprocessing.csv\")"
   ]
  }
 ],
 "metadata": {
  "kernelspec": {
   "display_name": ".venv",
   "language": "python",
   "name": "python3"
  },
  "language_info": {
   "codemirror_mode": {
    "name": "ipython",
    "version": 3
   },
   "file_extension": ".py",
   "mimetype": "text/x-python",
   "name": "python",
   "nbconvert_exporter": "python",
   "pygments_lexer": "ipython3",
   "version": "3.11.9"
  }
 },
 "nbformat": 4,
 "nbformat_minor": 5
}
